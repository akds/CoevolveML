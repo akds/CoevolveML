{
 "cells": [
  {
   "cell_type": "code",
   "execution_count": 10,
   "id": "8972d50c",
   "metadata": {},
   "outputs": [
    {
     "name": "stdout",
     "output_type": "stream",
     "text": [
      "The autoreload extension is already loaded. To reload it, use:\n",
      "  %reload_ext autoreload\n"
     ]
    }
   ],
   "source": [
    "%matplotlib inline\n",
    "%load_ext autoreload\n",
    "%autoreload 2\n",
    "import torch\n",
    "import tqdm.notebook as tqdm\n",
    "import numpy as np\n",
    "from torch.utils import data as D\n",
    "import os\n",
    "import sys\n",
    "dir_path = os.path.dirname(os.path.realpath('__file__'))\n",
    "sys.path.append('/'.join(dir_path.split('/')[:-1]) + '/src/models')\n",
    "import regression_2d\n",
    "import matplotlib.pyplot as plt\n",
    "plt.style.use('seaborn-paper')\n",
    "import seaborn as sns\n"
   ]
  },
  {
   "cell_type": "code",
   "execution_count": 3,
   "id": "d81e758b",
   "metadata": {},
   "outputs": [
    {
     "name": "stderr",
     "output_type": "stream",
     "text": [
      "Using cache found in /home/blai/.cache/torch/hub/facebookresearch_esm_main\n"
     ]
    }
   ],
   "source": [
    "\n",
    "model = regression_2d.regression2d()\n",
    "state_dict = torch.load('../trained_models/LL1_model.pt', map_location = torch.device('cpu'))\n",
    "model.load_state_dict(state_dict['state_dict'])\n",
    "device = torch.device('cuda:1')\n",
    "model = model.to(device).eval()\n",
    "\n",
    "esm_model, alphabet = torch.hub.load(\"facebookresearch/esm:main\", \"esm2_t33_650M_UR50D\")\n",
    "batch_converter = alphabet.get_batch_converter()\n",
    "esm_model = esm_model.eval().cuda(1)"
   ]
  },
  {
   "cell_type": "code",
   "execution_count": 19,
   "id": "30949fec",
   "metadata": {},
   "outputs": [
    {
     "name": "stdout",
     "output_type": "stream",
     "text": [
      "R2\n"
     ]
    },
    {
     "data": {
      "application/vnd.jupyter.widget-view+json": {
       "model_id": "b119ed7bc6b84b3aaa73d9c713adac7c",
       "version_major": 2,
       "version_minor": 0
      },
      "text/plain": [
       "  0%|          | 0/1000 [00:00<?, ?it/s]"
      ]
     },
     "metadata": {},
     "output_type": "display_data"
    },
    {
     "name": "stdout",
     "output_type": "stream",
     "text": [
      "R4\n"
     ]
    },
    {
     "data": {
      "application/vnd.jupyter.widget-view+json": {
       "model_id": "4d9942116bf54e88ba537d5982285bf7",
       "version_major": 2,
       "version_minor": 0
      },
      "text/plain": [
       "  0%|          | 0/1000 [00:00<?, ?it/s]"
      ]
     },
     "metadata": {},
     "output_type": "display_data"
    },
    {
     "name": "stdout",
     "output_type": "stream",
     "text": [
      "R5\n"
     ]
    },
    {
     "data": {
      "application/vnd.jupyter.widget-view+json": {
       "model_id": "9deb2534ec9549ec98bb7b4152d38f8b",
       "version_major": 2,
       "version_minor": 0
      },
      "text/plain": [
       "  0%|          | 0/1000 [00:00<?, ?it/s]"
      ]
     },
     "metadata": {},
     "output_type": "display_data"
    },
    {
     "name": "stdout",
     "output_type": "stream",
     "text": [
      "R6\n"
     ]
    },
    {
     "data": {
      "application/vnd.jupyter.widget-view+json": {
       "model_id": "85ac19e53ddd4c878811a63b84abfe9a",
       "version_major": 2,
       "version_minor": 0
      },
      "text/plain": [
       "  0%|          | 0/1000 [00:00<?, ?it/s]"
      ]
     },
     "metadata": {},
     "output_type": "display_data"
    },
    {
     "name": "stdout",
     "output_type": "stream",
     "text": [
      "int\n"
     ]
    },
    {
     "data": {
      "application/vnd.jupyter.widget-view+json": {
       "model_id": "de25b1c550e341cf9be47d792564a384",
       "version_major": 2,
       "version_minor": 0
      },
      "text/plain": [
       "  0%|          | 0/1000 [00:00<?, ?it/s]"
      ]
     },
     "metadata": {},
     "output_type": "display_data"
    },
    {
     "name": "stdout",
     "output_type": "stream",
     "text": [
      "final\n"
     ]
    },
    {
     "data": {
      "application/vnd.jupyter.widget-view+json": {
       "model_id": "144569cfe80b459186f63451d5989b7c",
       "version_major": 2,
       "version_minor": 0
      },
      "text/plain": [
       "  0%|          | 0/306 [00:00<?, ?it/s]"
      ]
     },
     "metadata": {},
     "output_type": "display_data"
    }
   ],
   "source": [
    "file_paths = ['./seq_data/R2_seq.csv', './seq_data/R4_seq.csv', './seq_data/R5_seq.csv',\n",
    "            './seq_data/R6_seq.csv', './seq_data/int_seq.csv', './seq_data/final_seq.csv'] \n",
    "\n",
    "score_at_R = dict()\n",
    "for file_path in file_paths:\n",
    "    R = file_path.split('/')[-1].split('_')[0]\n",
    "    f = open(file_path, 'r').readlines()\n",
    "    scores = []\n",
    "    print(R)\n",
    "    pbar = tqdm.tqdm(total = len(f[:1000]))\n",
    "    for line in f[:1000]:\n",
    "        pbar.update()        \n",
    "        seq_A = line.split(',')[0]\n",
    "        seq_B = line.split(',')[1]\n",
    "        data = {\n",
    "            ('A',seq_A),\n",
    "            ('B',seq_B)\n",
    "        }\n",
    "        batch_labels, batch_strs, batch_tokens = batch_converter(data)\n",
    "        with torch.no_grad():\n",
    "            results = esm_model(batch_tokens.cuda(1), repr_layers=[33], return_contacts=True)\n",
    "            token_representations = results[\"representations\"][33]\n",
    "\n",
    "        A_embedding = token_representations[0, 1:].mean(0).detach()\n",
    "        B_embedding = token_representations[1, 1:].mean(0).detach()\n",
    "        \n",
    "        feat = torch.outer(A_embedding, B_embedding).unsqueeze(0).unsqueeze(1).cuda(1)\n",
    "        pred = model(feat).item()\n",
    "        scores.append(pred)\n",
    "    score_at_R[R] = scores"
   ]
  },
  {
   "cell_type": "code",
   "execution_count": 20,
   "id": "03b6a2a7",
   "metadata": {},
   "outputs": [
    {
     "data": {
      "image/png": "[encoded data removed]",
      "text/plain": [
       "<Figure size 460.8x316.8 with 1 Axes>"
      ]
     },
     "metadata": {
      "needs_background": "light"
     },
     "output_type": "display_data"
    }
   ],
   "source": [
    "#print(score_at_R['int'])\n",
    "sns.boxplot([score_at_R[r] for r in score_at_R], width = .5)\n",
    "plt.xticks(range(len(score_at_R)), list(score_at_R.keys()))\n",
    "plt.ylabel('predicted binding score')\n",
    "plt.show()"
   ]
  }
 ],
 "metadata": {
  "kernelspec": {
   "display_name": "Breathing",
   "language": "python",
   "name": "breathing"
  },
  "language_info": {
   "codemirror_mode": {
    "name": "ipython",
    "version": 3
   },
   "file_extension": ".py",
   "mimetype": "text/x-python",
   "name": "python",
   "nbconvert_exporter": "python",
   "pygments_lexer": "ipython3",
   "version": "3.8.13"
  }
 },
 "nbformat": 4,
 "nbformat_minor": 5
}
